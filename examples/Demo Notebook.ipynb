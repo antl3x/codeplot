{
  "cells": [
    {
      "cell_type": "code",
      "execution_count": null,
      "metadata": {
        "id": "cP1-t9sGTe8n"
      },
      "outputs": [],
      "source": [
        "# Install Codeploy IPython Extension\n",
        "!pip install codeplot-ipython"
      ]
    },
    {
      "cell_type": "code",
      "execution_count": 1,
      "metadata": {
        "id": "5IvRzlkZUSJx",
        "colab": {
          "base_uri": "https://localhost:8080/"
        },
        "outputId": "095d164e-ba07-48cc-b77c-7595fa024237"
      },
      "outputs": [
        {
          "output_type": "stream",
          "name": "stdout",
          "text": [
            "Output suppression is now: True.\n"
          ]
        }
      ],
      "source": [
        "# Load Extension\n",
        "%load_ext codeplot-ipython\n",
        "\n",
        "# Connect to Codeplot Session\n",
        "%cP_connect wss://api.codeplot.co/room_01hybcyhjnet4ak4zp9sh19sgh\n",
        "%cP_supress True"
      ]
    },
    {
      "cell_type": "code",
      "source": [
        "import polars as pl\n",
        "import pandas as pd\n",
        "import seaborn as sns\n",
        "import numpy as np\n",
        "import matplotlib.pylab as plt"
      ],
      "metadata": {
        "id": "zLniXIES1U5M"
      },
      "execution_count": 2,
      "outputs": []
    },
    {
      "cell_type": "code",
      "source": [
        "df = sns.load_dataset('titanic')\n",
        "df.head()"
      ],
      "metadata": {
        "id": "6fFHCYKXvKJ2"
      },
      "execution_count": 10,
      "outputs": []
    },
    {
      "cell_type": "code",
      "source": [
        "# Let's plot the dataframe shape.\n",
        "df.shape;"
      ],
      "metadata": {
        "id": "E6LnBEVkveue"
      },
      "execution_count": 5,
      "outputs": []
    },
    {
      "cell_type": "code",
      "source": [
        "# Let's plot the dataframe columns.\n",
        "df.columns;"
      ],
      "metadata": {
        "id": "1YSwHcOLyUUF"
      },
      "execution_count": 5,
      "outputs": []
    },
    {
      "cell_type": "code",
      "source": [
        "# Let's plot the dataframe datatypes.\n",
        "df.dtypes"
      ],
      "metadata": {
        "id": "s6DAZOmNviLn"
      },
      "execution_count": 6,
      "outputs": []
    },
    {
      "cell_type": "code",
      "source": [
        "# Let's describe the dataframe.\n",
        "df.describe()"
      ],
      "metadata": {
        "id": "H1iwyFLXyfB0"
      },
      "execution_count": 7,
      "outputs": []
    },
    {
      "cell_type": "code",
      "source": [
        "# Handling missing values\n",
        "df.dropna(inplace=True)  # Remove rows with missing values\n"
      ],
      "metadata": {
        "id": "UdELTkTxv0dq"
      },
      "execution_count": 8,
      "outputs": []
    },
    {
      "cell_type": "code",
      "source": [
        "# Bar plot\n",
        "sns.countplot(x='survived', data=df)\n",
        "plt.xlabel('Survival Status')\n",
        "plt.ylabel('Count')\n",
        "plt.title('Survival Count')\n",
        "plt.show()\n",
        "\n",
        "# Histogram\n",
        "plt.hist(df['age'], bins=10)\n",
        "plt.xlabel('Age')\n",
        "plt.ylabel('Frequency')\n",
        "plt.title('Distribution of Age')\n",
        "plt.show()\n",
        "\n",
        "# Scatter plot\n",
        "plt.scatter(df['age'], df['fare'])\n",
        "plt.xlabel('Age')\n",
        "plt.ylabel('Fare')\n",
        "plt.title('Age vs. Fare')\n",
        "plt.show()\n",
        "\n",
        "# Box plot\n",
        "sns.boxplot(x=df['survived'], y=df['fare'])\n",
        "plt.xlabel('Survival Status')\n",
        "plt.ylabel('Fare')\n",
        "plt.title('Survival Status vs. Fare')\n",
        "plt.show()"
      ],
      "metadata": {
        "id": "e_dq5Fie0rzg"
      },
      "execution_count": 12,
      "outputs": []
    },
    {
      "cell_type": "code",
      "source": [
        "# Correlation analysis\n",
        "correlation = df[['age', 'fare']].corr()\n",
        "correlation"
      ],
      "metadata": {
        "id": "rHWdnZbv1UeG"
      },
      "execution_count": 17,
      "outputs": []
    },
    {
      "cell_type": "code",
      "source": [
        "# Cross-tabulation\n",
        "cross_tab = pd.crosstab(df['pclass'], df['survived'])\n",
        "cross_tab"
      ],
      "metadata": {
        "id": "t9d8FwLk1fOT"
      },
      "execution_count": 18,
      "outputs": []
    }
  ],
  "metadata": {
    "colab": {
      "provenance": []
    },
    "kernelspec": {
      "display_name": "Python 3",
      "name": "python3"
    },
    "language_info": {
      "name": "python"
    }
  },
  "nbformat": 4,
  "nbformat_minor": 0
}