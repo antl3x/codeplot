{
  "cells": [
    {
      "cell_type": "code",
      "execution_count": null,
      "metadata": {
        "id": "cP1-t9sGTe8n"
      },
      "outputs": [],
      "source": [
        "# Install Codeploy IPython Extension\n",
        "%pip install codeplot-ipython"
      ]
    },
    {
      "cell_type": "code",
      "execution_count": 1,
      "metadata": {
        "colab": {
          "base_uri": "https://localhost:8080/"
        },
        "id": "5IvRzlkZUSJx",
        "outputId": "095d164e-ba07-48cc-b77c-7595fa024237"
      },
      "outputs": [
        {
          "name": "stdout",
          "output_type": "stream",
          "text": [
            "Output suppression is now: True.\n"
          ]
        },
        {
          "name": "stdout",
          "output_type": "stream",
          "text": [
            "Connected to Codeplot.\n"
          ]
        }
      ],
      "source": [
        "# Load Extension\n",
        "%load_ext codeplot-ipython\n",
        "\n",
        "# Connect to Codeplot Session\n",
        "%cP_connect wss://api.codeplot.co/room_01hyc3v8vkfbjrzv55gj0dewmz\n",
        "%cP_supress True"
      ]
    },
    {
      "cell_type": "code",
      "execution_count": 2,
      "metadata": {
        "id": "zLniXIES1U5M"
      },
      "outputs": [],
      "source": [
        "import polars as pl\n",
        "import pandas as pd\n",
        "import seaborn as sns\n",
        "import numpy as np\n",
        "import matplotlib.pylab as plt"
      ]
    },
    {
      "cell_type": "code",
      "execution_count": 3,
      "metadata": {
        "id": "6fFHCYKXvKJ2"
      },
      "outputs": [],
      "source": [
        "df = sns.load_dataset('titanic')\n",
        "df.head()"
      ]
    },
    {
      "cell_type": "code",
      "execution_count": 4,
      "metadata": {
        "id": "E6LnBEVkveue"
      },
      "outputs": [],
      "source": [
        "# Let's plot the dataframe shape.\n",
        "df.shape;"
      ]
    },
    {
      "cell_type": "code",
      "execution_count": 5,
      "metadata": {
        "id": "s6DAZOmNviLn"
      },
      "outputs": [],
      "source": [
        "# Let's plot the dataframe datatypes.\n",
        "df.dtypes"
      ]
    },
    {
      "cell_type": "code",
      "execution_count": 6,
      "metadata": {
        "id": "H1iwyFLXyfB0"
      },
      "outputs": [],
      "source": [
        "# Let's describe the dataframe.\n",
        "df.describe()"
      ]
    },
    {
      "cell_type": "code",
      "execution_count": 7,
      "metadata": {
        "id": "e_dq5Fie0rzg"
      },
      "outputs": [],
      "source": [
        "# Bar plot\n",
        "sns.countplot(x='survived', data=df)\n",
        "plt.xlabel('Survival Status')\n",
        "plt.ylabel('Count')\n",
        "plt.title('Survival Count')\n",
        "plt.show()\n"
      ]
    },
    {
      "cell_type": "code",
      "execution_count": null,
      "metadata": {
        "id": "rHWdnZbv1UeG"
      },
      "outputs": [],
      "source": [
        "\n",
        "# Histogram\n",
        "plt.hist(df['age'], bins=10)\n",
        "plt.xlabel('Age')\n",
        "plt.ylabel('Frequency')\n",
        "plt.title('Distribution of Age')\n",
        "plt.show()\n",
        "\n",
        "# Scatter plot\n",
        "plt.scatter(df['age'], df['fare'])\n",
        "plt.xlabel('Age')\n",
        "plt.ylabel('Fare')\n",
        "plt.title('Age vs. Fare')\n",
        "plt.show()\n",
        "\n",
        "# Box plot\n",
        "sns.boxplot(x=df['survived'], y=df['fare'])\n",
        "plt.xlabel('Survival Status')\n",
        "plt.ylabel('Fare')\n",
        "plt.title('Survival Status vs. Fare')\n",
        "plt.show()"
      ]
    }
  ],
  "metadata": {
    "colab": {
      "provenance": []
    },
    "kernelspec": {
      "display_name": "Python 3",
      "name": "python3"
    },
    "language_info": {
      "codemirror_mode": {
        "name": "ipython",
        "version": 3
      },
      "file_extension": ".py",
      "mimetype": "text/x-python",
      "name": "python",
      "nbconvert_exporter": "python",
      "pygments_lexer": "ipython3",
      "version": "3.12.2"
    }
  },
  "nbformat": 4,
  "nbformat_minor": 0
}
