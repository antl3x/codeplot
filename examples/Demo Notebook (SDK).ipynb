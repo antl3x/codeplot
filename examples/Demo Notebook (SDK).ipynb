{
  "nbformat": 4,
  "nbformat_minor": 0,
  "metadata": {
    "colab": {
      "provenance": []
    },
    "kernelspec": {
      "name": "python3",
      "display_name": "Python 3"
    },
    "language_info": {
      "name": "python"
    }
  },
  "cells": [
    {
      "cell_type": "code",
      "execution_count": null,
      "metadata": {
        "id": "jkBShJ2VtKop"
      },
      "outputs": [],
      "source": [
        "!pip install codeplot"
      ]
    },
    {
      "cell_type": "code",
      "source": [
        "# Import and connect to the session\n",
        "import codeplot\n",
        "cP = await codeplot.connect(\"wss://api.codeplot.co/room_01hpqznh4efe88tqhr31hd30yr\")"
      ],
      "metadata": {
        "id": "5r-fFLuQtd9J"
      },
      "execution_count": null,
      "outputs": []
    },
    {
      "cell_type": "code",
      "source": [
        "import nest_asyncio\n",
        "import pandas as pd\n",
        "import seaborn as sns\n",
        "import matplotlib.pyplot as plt\n",
        "nest_asyncio.apply()\n",
        "\n",
        "df = pd.read_csv('https://raw.githubusercontent.com/mwaskom/seaborn-data/master/titanic.csv')"
      ],
      "metadata": {
        "id": "N49ephcetfZv"
      },
      "execution_count": null,
      "outputs": []
    },
    {
      "cell_type": "code",
      "source": [
        "# Let's plot the dataframe head.\n",
        "await cP.plot(df.head(10));"
      ],
      "metadata": {
        "id": "5aCBgBDEzEaK"
      },
      "execution_count": null,
      "outputs": []
    },
    {
      "cell_type": "code",
      "source": [
        "# Let's plot the dataframe datatypes.\n",
        "await cP.plot(df.dtypes);"
      ],
      "metadata": {
        "id": "WX_9V3lqzFHB"
      },
      "execution_count": null,
      "outputs": []
    },
    {
      "cell_type": "code",
      "source": [
        "# Let's plot the dataframe shape.\n",
        "await cP.plot(df.shape);"
      ],
      "metadata": {
        "id": "8xK1RatTzNvM"
      },
      "execution_count": null,
      "outputs": []
    },
    {
      "cell_type": "code",
      "source": [
        "# Drop rows with missing values in 'age' or 'fare' columns for clarity in the scatter plot\n",
        "df = df.dropna(subset=['age', 'fare'])\n",
        "\n",
        "# Create the scatter plot\n",
        "plt.figure(figsize=(10, 6))  # Set the figure size for better readability\n",
        "sns.scatterplot(data=df, x='age', y='fare', hue='class', style='sex', size='survived', sizes=(20, 200), alpha=0.7)\n",
        "\n",
        "# Adding plot title and labels\n",
        "plt.title('Age vs Fare on the Titanic')\n",
        "plt.xlabel('Age')\n",
        "plt.ylabel('Fare')\n",
        "plt.legend(title='Passenger Details')\n",
        "\n",
        "# Show the plot\n",
        "await cP.plot(plt);"
      ],
      "metadata": {
        "id": "avxUwTNBzCZS"
      },
      "execution_count": null,
      "outputs": []
    }
  ]
}